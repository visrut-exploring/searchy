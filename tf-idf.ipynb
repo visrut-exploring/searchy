{
 "cells": [
  {
   "cell_type": "code",
   "execution_count": 77,
   "metadata": {},
   "outputs": [],
   "source": [
    "! pip install scikit-learn pandas tabulate -q"
   ]
  },
  {
   "cell_type": "code",
   "execution_count": 78,
   "metadata": {},
   "outputs": [],
   "source": [
    "from sklearn.datasets import fetch_20newsgroups\n",
    "newsgroups = fetch_20newsgroups(subset='all')\n",
    "target_names = newsgroups['target_names']"
   ]
  },
  {
   "cell_type": "code",
   "execution_count": 79,
   "metadata": {},
   "outputs": [],
   "source": [
    "import pandas as pd\n",
    "\n",
    "df = pd.DataFrame({\n",
    "    'documents': newsgroups['data'],\n",
    "    # 'target_names': newsgroups['target_names'],\n",
    "    'target': [ target_names[_] for _ in newsgroups['target'] ]\n",
    "})"
   ]
  },
  {
   "cell_type": "code",
   "execution_count": 80,
   "metadata": {},
   "outputs": [],
   "source": [
    "import random\n",
    "random.seed(20)\n",
    "\n",
    "emails = df['documents'].to_list()\n",
    "shuffled_emails = random.sample(emails, len(emails))[:20]\n",
    "\n",
    "# print(df.iloc[1, 0])"
   ]
  },
  {
   "cell_type": "code",
   "execution_count": 96,
   "metadata": {},
   "outputs": [
    {
     "name": "stdout",
     "output_type": "stream",
     "text": [
      "+-----------+-----------+---------------------+-------------------+---------------------+----+\n",
      "|   Word    | Frequency |         TF          |        IDF        |       TF*IDF        | DF |\n",
      "+-----------+-----------+---------------------+-------------------+---------------------+----+\n",
      "| colorado  |     5     | 0.06756756756756757 | 2.302585092994046 | 0.15558007385094905 | 2  |\n",
      "|   spot    |     3     | 0.04054054054054054 | 2.995732273553991 | 0.12144860568462126 | 1  |\n",
      "| dickhead  |     3     | 0.04054054054054054 | 2.995732273553991 | 0.12144860568462126 | 1  |\n",
      "| franjion  |     2     | 0.02702702702702703 | 2.995732273553991 | 0.08096573712308083 | 1  |\n",
      "| franjione |     2     | 0.02702702702702703 | 2.995732273553991 | 0.08096573712308083 | 1  |\n",
      "+-----------+-----------+---------------------+-------------------+---------------------+----+\n"
     ]
    }
   ],
   "source": [
    "from math import log\n",
    "import re\n",
    "from typing import Dict, List\n",
    "from collections import Counter\n",
    "from tabulate import tabulate\n",
    "\n",
    "NON_WORDS = re.compile(\"[^a-z' ]\")\n",
    "\n",
    "class Corpus:\n",
    "\n",
    "    def __init__(self, corpus: List[str]):\n",
    "        self.corpus = [ NON_WORDS.sub(' ', document.lower()).split() for document in corpus ]\n",
    "        self.document_set = [ set(document) for document in self.corpus ]\n",
    "\n",
    "    def get_rank(self, document_id: int):\n",
    "        count_dict = Counter(self.corpus[document_id])\n",
    "\n",
    "        word_list = []\n",
    "        tf = []\n",
    "        df = []\n",
    "        idf = []\n",
    "        freq = []\n",
    "        tf_idf = []\n",
    "\n",
    "        for word, value in count_dict.items():\n",
    "            word_list.append(word)\n",
    "\n",
    "            _tf = value / len(count_dict.items())\n",
    "            _df = len([ document for document in self.document_set if word in document ])\n",
    "            _idf = log(len(self.corpus) /  _df)\n",
    "\n",
    "            tf.append(_tf)\n",
    "            idf.append(_idf)\n",
    "            freq.append(value)\n",
    "            tf_idf.append(_tf * _idf)\n",
    "            df.append(_df)\n",
    "\n",
    "        return {\n",
    "            'words': word_list,\n",
    "            'freq': freq,\n",
    "            'tf': tf,\n",
    "            'idf': idf,\n",
    "            'tf-idf': tf_idf,\n",
    "            'df': df\n",
    "        }\n",
    "    \n",
    "    def show_df(self, table: Dict[str, List[float]], limit: int = 3):\n",
    "        table_data = list(zip(table['words'], table['freq'], table['tf'], table['idf'], table['tf-idf'], table['df']))\n",
    "\n",
    "        # Sort by TF*IDF in descending order\n",
    "        table_data.sort(key=lambda x: x[4], reverse=True)\n",
    "\n",
    "        print(tabulate(table_data[:limit], headers=[\"Word\", \"Frequency\", \"TF\", \"IDF\", \"TF*IDF\", \"DF\"], tablefmt=\"pretty\"))\n",
    "\n",
    "# Assuming shuffled_emails is your corpus data\n",
    "corpus = Corpus(shuffled_emails)\n",
    "table = corpus.get_rank(2)\n",
    "corpus.show_df(table, 5)\n"
   ]
  }
 ],
 "metadata": {
  "kernelspec": {
   "display_name": "venv",
   "language": "python",
   "name": "python3"
  },
  "language_info": {
   "codemirror_mode": {
    "name": "ipython",
    "version": 3
   },
   "file_extension": ".py",
   "mimetype": "text/x-python",
   "name": "python",
   "nbconvert_exporter": "python",
   "pygments_lexer": "ipython3",
   "version": "3.13.1"
  }
 },
 "nbformat": 4,
 "nbformat_minor": 2
}

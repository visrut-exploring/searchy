{
 "cells": [
  {
   "cell_type": "code",
   "execution_count": 2,
   "metadata": {},
   "outputs": [],
   "source": [
    "! pip install redis -q"
   ]
  },
  {
   "cell_type": "code",
   "execution_count": 18,
   "metadata": {},
   "outputs": [
    {
     "data": {
      "text/plain": [
       "1"
      ]
     },
     "execution_count": 18,
     "metadata": {},
     "output_type": "execute_result"
    }
   ],
   "source": [
    "import redis\n",
    "\n",
    "redis_client = redis.Redis()\n",
    "redis_client.sadd('set1', 'item1', 'item2')"
   ]
  },
  {
   "cell_type": "code",
   "execution_count": 20,
   "metadata": {},
   "outputs": [],
   "source": [
    "text = \"\"\"\n",
    "RegExr was created by gskinner.com.\n",
    "\n",
    "Edit the Expression & Text to see matches. Roll over matches or the expression for details. PCRE & JavaScript flavors of RegEx are supported. Validate your expression with Tests mode.\n",
    "\n",
    "The side bar includes a Cheatsheet, full Reference, and Help. You can also Save & Share with the Community and view patterns you create or favorite in My Patterns.\n",
    "\n",
    "Explore results with the Tools below. Replace & List output custom results. Details lists capture groups. Explain describes your expression in plain English. \n",
    "7383902\n",
    "\n",
    "can't be true\n",
    "\n",
    "asdhsadjl\n",
    "\"\"\""
   ]
  },
  {
   "cell_type": "code",
   "execution_count": 30,
   "metadata": {},
   "outputs": [
    {
     "name": "stdout",
     "output_type": "stream",
     "text": [
      "\n",
      "regexr was created by gskinner.com.\n",
      "\n",
      "edit the expression & text to see matches. roll over matches or the expression for details. pcre & javascript flavors of regex are supported. validate your expression with tests mode.\n",
      "\n",
      "the side bar includes a cheatsheet, full reference, and help. you can also save & share with the community and view patterns you create or favorite in my patterns.\n",
      "\n",
      "explore results with the tools below. replace & list output custom results. details lists capture groups. explain describes your expression in plain english. \n",
      "7383902\n",
      "\n",
      "can't be true\n",
      "\n",
      "asdhsadjl\n",
      "\n"
     ]
    }
   ],
   "source": [
    "print(text.lower())"
   ]
  },
  {
   "cell_type": "code",
   "execution_count": 22,
   "metadata": {},
   "outputs": [],
   "source": [
    "import re\n",
    "\n",
    "NON_WORDS = re.compile(\"[^a-z0-9' ]\")\n",
    "\n",
    "# stop words pulled from the below url\n",
    "# http://www.textfixer.com/resources/common-english-words.txt\n",
    "STOP_WORDS = set('''a able about across after all almost also am\n",
    "among an and any are as at be because been but by can cannot\n",
    "could dear did do does either else ever every for from get got\n",
    "had has have he her hers him his how however i if in into is it\n",
    "its just least let like likely may me might most must my neither\n",
    "no nor not of off often on only or other our own rather said say\n",
    "says she should since so some than that the their them then\n",
    "there these they this tis to too twas us wants was we were what\n",
    "when where which while who whom why will with would yet you\n",
    "your'''.split())"
   ]
  },
  {
   "cell_type": "code",
   "execution_count": 40,
   "metadata": {},
   "outputs": [],
   "source": [
    "from typing import Dict, DefaultDict\n",
    "\n",
    "from collections import defaultdict\n",
    "\n",
    "def get_index_keys(content: str) -> Dict[str, float]:\n",
    "    words = NON_WORDS.sub(' ', content.lower()).split()\n",
    "    words = [word.strip(\"'\") for word in words]\n",
    "    words = [word for word in words\n",
    "                if word not in STOP_WORDS and len(word) > 1]\n",
    "    \n",
    "    word_count_dict: DefaultDict[str, float] = defaultdict(float)\n",
    "    \n",
    "    for word in words:\n",
    "        word_count_dict[word] += 1\n",
    "\n",
    "    tf = dict(\n",
    "        (word, count / len(words)) for word, count in word_count_dict.items()\n",
    "    )\n",
    "\n",
    "    return tf"
   ]
  },
  {
   "cell_type": "code",
   "execution_count": 41,
   "metadata": {},
   "outputs": [],
   "source": [
    "keys = get_index_keys(text.lower())"
   ]
  }
 ],
 "metadata": {
  "kernelspec": {
   "display_name": "venv",
   "language": "python",
   "name": "python3"
  },
  "language_info": {
   "codemirror_mode": {
    "name": "ipython",
    "version": 3
   },
   "file_extension": ".py",
   "mimetype": "text/x-python",
   "name": "python",
   "nbconvert_exporter": "python",
   "pygments_lexer": "ipython3",
   "version": "3.13.1"
  }
 },
 "nbformat": 4,
 "nbformat_minor": 2
}
